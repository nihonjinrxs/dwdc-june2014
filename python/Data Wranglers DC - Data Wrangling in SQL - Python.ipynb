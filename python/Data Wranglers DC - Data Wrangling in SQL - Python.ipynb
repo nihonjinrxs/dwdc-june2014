{
 "metadata": {
  "name": ""
 },
 "nbformat": 3,
 "nbformat_minor": 0,
 "worksheets": [
  {
   "cells": [
    {
     "cell_type": "markdown",
     "metadata": {},
     "source": [
      "# Data Wrangling in SQL with Python\n",
      "\n",
      "This notebook will demonstrate using [SQLAlchemy](http://www.sqlalchemy.org/) for Python to connect to and query a database.  For these examples, we'll use the [PostgreSQL](http://www.postgresql.org/) database we set up earlier in this talk.\n",
      "\n",
      "We'll walk through various query options on the sample data, then we'll pull that data in to do the regression example we did earlier in SQL and in R.\n",
      "\n",
      "For the talk, I'm using an [iPython Notebook](http://ipython.org/notebook) running on [Continuum Analytics' Anaconda distribution of Python](http://continuum.io/downloads), which includes many useful libraries out of the box, including the ones we'll use in this talk:\n",
      "\n",
      "* [Pandas](http://pandas.pydata.org/)\n",
      "* [SciPy](http://www.scipy.org/)\n",
      "* [MatPlotLib](http://matplotlib.org/)"
     ]
    },
    {
     "cell_type": "markdown",
     "metadata": {},
     "source": [
      "#Import the database management libraries\n",
      "\n",
      "First, we import the database management libraries SQL Alchemy (`sqlalchemy`), included with Continuum Analytics' Anaconda distribution of Python, and PsycoPG 2 (`psycopg2`), which you may need to install.\n",
      "\n",
      "*Note: installation of `psycopg2` can be tricky on Mac OS X Mavericks -- see instructions below.*"
     ]
    },
    {
     "cell_type": "code",
     "collapsed": false,
     "input": [
      "import psycopg2\n",
      "import sqlalchemy as sqla"
     ],
     "language": "python",
     "metadata": {},
     "outputs": [],
     "prompt_number": 1
    },
    {
     "cell_type": "markdown",
     "metadata": {},
     "source": [
      "# Set up the database connection\n",
      "\n",
      "Create the engine for the connection to PostgreSQL and bind it to a metadata object.  We'll use that object implicitly to load data from the database. "
     ]
    },
    {
     "cell_type": "code",
     "collapsed": false,
     "input": [
      "engine = sqla.create_engine(\"postgresql://ryan@localhost/ryan\")\n",
      "metadata = sqla.MetaData()\n",
      "metadata.bind = engine"
     ],
     "language": "python",
     "metadata": {},
     "outputs": [],
     "prompt_number": 2
    },
    {
     "cell_type": "markdown",
     "metadata": {},
     "source": [
      "Reflect the `dwdc` schema into the metadata object, and check that we have the tables we expect."
     ]
    },
    {
     "cell_type": "code",
     "collapsed": false,
     "input": [
      "metadata.reflect(schema='dwdc')"
     ],
     "language": "python",
     "metadata": {},
     "outputs": [],
     "prompt_number": 3
    },
    {
     "cell_type": "code",
     "collapsed": false,
     "input": [
      "for t in metadata.sorted_tables:\n",
      "  print t.name"
     ],
     "language": "python",
     "metadata": {},
     "outputs": [
      {
       "output_type": "stream",
       "stream": "stdout",
       "text": [
        "ids\n",
        "all_visits\n"
       ]
      }
     ],
     "prompt_number": 4
    },
    {
     "cell_type": "markdown",
     "metadata": {},
     "source": [
      "Create variables to reference the tables we want to use"
     ]
    },
    {
     "cell_type": "code",
     "collapsed": false,
     "input": [
      "ids = metadata.tables['dwdc.ids']\n",
      "all_visits = metadata.tables['dwdc.all_visits']\n",
      "(ids, all_visits)"
     ],
     "language": "python",
     "metadata": {},
     "outputs": [
      {
       "metadata": {},
       "output_type": "pyout",
       "prompt_number": 5,
       "text": [
        "(Table(u'ids', MetaData(bind=Engine(postgresql://ryan@localhost/ryan)), Column(u'id', INTEGER(), table=<ids>, primary_key=True, nullable=False, server_default=DefaultClause(<sqlalchemy.sql.expression.TextClause object at 0x1051dee50>, for_update=False)), Column(u'first_name', TEXT(), table=<ids>), Column(u'gender', CHAR(length=1), table=<ids>), Column(u'dob', DATE(), table=<ids>), schema='dwdc'),\n",
        " Table(u'all_visits', MetaData(bind=Engine(postgresql://ryan@localhost/ryan)), Column(u'first_name', TEXT(), table=<all_visits>), Column(u'visit_date', DATE(), table=<all_visits>), Column(u'height', NUMERIC(), table=<all_visits>), schema='dwdc'))"
       ]
      }
     ],
     "prompt_number": 5
    },
    {
     "cell_type": "markdown",
     "metadata": {},
     "source": [
      "# Let's try a SELECT statement\n",
      "\n",
      "*Note that the returned value from `execute()` is an iterator -- this can be really nice if you have a lot of data.  For now, we'll use a list comprehension to dump it all into a list for viewing.*"
     ]
    },
    {
     "cell_type": "code",
     "collapsed": false,
     "input": [
      "[row for row in ids.select().execute()]"
     ],
     "language": "python",
     "metadata": {},
     "outputs": [
      {
       "metadata": {},
       "output_type": "pyout",
       "prompt_number": 6,
       "text": [
        "[(1, u'Jacob', u'M', datetime.date(2005, 9, 18)),\n",
        " (2, u'Mason', u'M', datetime.date(2004, 2, 8)),\n",
        " (3, u'Ethan', u'M', datetime.date(2005, 9, 27)),\n",
        " (4, u'Noah', u'M', datetime.date(2004, 6, 18)),\n",
        " (5, u'William', u'M', datetime.date(2002, 9, 16)),\n",
        " (6, u'Sophia', u'F', datetime.date(2002, 1, 17)),\n",
        " (7, u'Emma', u'F', datetime.date(2005, 12, 3)),\n",
        " (8, u'Isabella', u'F', datetime.date(2002, 5, 27)),\n",
        " (9, u'Olivia', u'F', datetime.date(2002, 2, 3))]"
       ]
      }
     ],
     "prompt_number": 6
    },
    {
     "cell_type": "markdown",
     "metadata": {},
     "source": [
      "Let's limit the columns we want to see."
     ]
    },
    {
     "cell_type": "code",
     "collapsed": false,
     "input": [
      "[(row.id, row.first_name) for row in ids.select().execute()]"
     ],
     "language": "python",
     "metadata": {},
     "outputs": [
      {
       "metadata": {},
       "output_type": "pyout",
       "prompt_number": 7,
       "text": [
        "[(1, u'Jacob'),\n",
        " (2, u'Mason'),\n",
        " (3, u'Ethan'),\n",
        " (4, u'Noah'),\n",
        " (5, u'William'),\n",
        " (6, u'Sophia'),\n",
        " (7, u'Emma'),\n",
        " (8, u'Isabella'),\n",
        " (9, u'Olivia')]"
       ]
      }
     ],
     "prompt_number": 7
    },
    {
     "cell_type": "markdown",
     "metadata": {},
     "source": [
      "Let's limit the children to only those born on or after January 1, 2003."
     ]
    },
    {
     "cell_type": "code",
     "collapsed": false,
     "input": [
      "import datetime\n",
      "[(row.id, row.first_name, row.dob) for row in ids.select(ids.c.dob >= datetime.date(2003,1,1)).execute()]"
     ],
     "language": "python",
     "metadata": {},
     "outputs": [
      {
       "metadata": {},
       "output_type": "pyout",
       "prompt_number": 8,
       "text": [
        "[(1, u'Jacob', datetime.date(2005, 9, 18)),\n",
        " (2, u'Mason', datetime.date(2004, 2, 8)),\n",
        " (3, u'Ethan', datetime.date(2005, 9, 27)),\n",
        " (4, u'Noah', datetime.date(2004, 6, 18)),\n",
        " (7, u'Emma', datetime.date(2005, 12, 3))]"
       ]
      }
     ],
     "prompt_number": 8
    },
    {
     "cell_type": "markdown",
     "metadata": {},
     "source": [
      "Let's sort them by date of birth, descending."
     ]
    },
    {
     "cell_type": "code",
     "collapsed": false,
     "input": [
      "select_stmt = ids.select(ids.c.dob >= datetime.date(2003,1,1)).order_by(sqla.desc(ids.c.dob))\n",
      "[(row.id, row.first_name, row.dob) for row in select_stmt.execute()]"
     ],
     "language": "python",
     "metadata": {},
     "outputs": [
      {
       "metadata": {},
       "output_type": "pyout",
       "prompt_number": 9,
       "text": [
        "[(7, u'Emma', datetime.date(2005, 12, 3)),\n",
        " (3, u'Ethan', datetime.date(2005, 9, 27)),\n",
        " (1, u'Jacob', datetime.date(2005, 9, 18)),\n",
        " (4, u'Noah', datetime.date(2004, 6, 18)),\n",
        " (2, u'Mason', datetime.date(2004, 2, 8))]"
       ]
      }
     ],
     "prompt_number": 9
    },
    {
     "cell_type": "markdown",
     "metadata": {},
     "source": [
      "What about our visits?  Let's grab them."
     ]
    },
    {
     "cell_type": "code",
     "collapsed": false,
     "input": [
      "[row for row in all_visits.select().execute()]"
     ],
     "language": "python",
     "metadata": {},
     "outputs": [
      {
       "metadata": {},
       "output_type": "pyout",
       "prompt_number": 10,
       "text": [
        "[(u'Noah', datetime.date(2009, 1, 31), Decimal('43')),\n",
        " (u'Olivia', datetime.date(2009, 2, 15), Decimal('48')),\n",
        " (u'Sophia', datetime.date(2009, 4, 26), Decimal('48')),\n",
        " (u'Emma', datetime.date(2009, 5, 23), Decimal('41')),\n",
        " (u'Ethan', datetime.date(2009, 10, 11), Decimal('42')),\n",
        " (u'William', datetime.date(2009, 11, 1), Decimal('52')),\n",
        " (u'Jacob', datetime.date(2009, 11, 22), Decimal('42')),\n",
        " (u'Isabella', datetime.date(2009, 12, 6), Decimal('48')),\n",
        " (u'Emma', datetime.date(2010, 1, 16), Decimal('42')),\n",
        " (u'Isabella', datetime.date(2010, 3, 5), Decimal('48')),\n",
        " (u'Mason', datetime.date(2010, 8, 10), Decimal('48')),\n",
        " (u'Jacob', datetime.date(2010, 8, 11), Decimal('43')),\n",
        " (u'William', datetime.date(2010, 10, 10), Decimal('54')),\n",
        " (u'Noah', datetime.date(2010, 12, 8), Decimal('47')),\n",
        " (u'Sophia', datetime.date(2010, 12, 10), Decimal('51')),\n",
        " (u'William', datetime.date(2011, 5, 20), Decimal('55')),\n",
        " (u'Sophia', datetime.date(2011, 5, 29), Decimal('51')),\n",
        " (u'Mason', datetime.date(2011, 6, 7), Decimal('49')),\n",
        " (u'Isabella', datetime.date(2011, 7, 10), Decimal('50')),\n",
        " (u'Ethan', datetime.date(2011, 7, 11), Decimal('45')),\n",
        " (u'Olivia', datetime.date(2011, 9, 24), Decimal('54')),\n",
        " (u'Noah', datetime.date(2011, 11, 29), Decimal('49')),\n",
        " (u'Jacob', datetime.date(2012, 1, 14), Decimal('46')),\n",
        " (u'Emma', datetime.date(2012, 6, 25), Decimal('47')),\n",
        " (u'Sophia', datetime.date(2012, 7, 15), Decimal('53')),\n",
        " (u'Mason', datetime.date(2012, 8, 29), Decimal('52')),\n",
        " (u'William', datetime.date(2012, 11, 15), Decimal('59')),\n",
        " (u'Isabella', datetime.date(2012, 11, 25), Decimal('53')),\n",
        " (u'Ethan', datetime.date(2012, 12, 31), Decimal('48'))]"
       ]
      }
     ],
     "prompt_number": 10
    },
    {
     "cell_type": "markdown",
     "metadata": {},
     "source": [
      "Can we join the two tables? Let's get all the information for patient visits for children born after January 1, 2003."
     ]
    },
    {
     "cell_type": "code",
     "collapsed": false,
     "input": [
      "jt = ids.outerjoin(all_visits, ids.c.first_name == all_visits.c.first_name)\n",
      "select_stmt = sqla.select([ids.c.id, ids.c.first_name, ids.c.dob, all_visits.c.visit_date, all_visits.c.height]).\\\n",
      "                   select_from(jt).where(ids.c.dob >= datetime.date(2003,1,1)).order_by(ids.c.id)\n",
      "[row for row in select_stmt.execute()]"
     ],
     "language": "python",
     "metadata": {},
     "outputs": [
      {
       "metadata": {},
       "output_type": "pyout",
       "prompt_number": 11,
       "text": [
        "[(1, u'Jacob', datetime.date(2005, 9, 18), datetime.date(2009, 11, 22), Decimal('42')),\n",
        " (1, u'Jacob', datetime.date(2005, 9, 18), datetime.date(2010, 8, 11), Decimal('43')),\n",
        " (1, u'Jacob', datetime.date(2005, 9, 18), datetime.date(2012, 1, 14), Decimal('46')),\n",
        " (2, u'Mason', datetime.date(2004, 2, 8), datetime.date(2011, 6, 7), Decimal('49')),\n",
        " (2, u'Mason', datetime.date(2004, 2, 8), datetime.date(2012, 8, 29), Decimal('52')),\n",
        " (2, u'Mason', datetime.date(2004, 2, 8), datetime.date(2010, 8, 10), Decimal('48')),\n",
        " (3, u'Ethan', datetime.date(2005, 9, 27), datetime.date(2009, 10, 11), Decimal('42')),\n",
        " (3, u'Ethan', datetime.date(2005, 9, 27), datetime.date(2012, 12, 31), Decimal('48')),\n",
        " (3, u'Ethan', datetime.date(2005, 9, 27), datetime.date(2011, 7, 11), Decimal('45')),\n",
        " (4, u'Noah', datetime.date(2004, 6, 18), datetime.date(2010, 12, 8), Decimal('47')),\n",
        " (4, u'Noah', datetime.date(2004, 6, 18), datetime.date(2009, 1, 31), Decimal('43')),\n",
        " (4, u'Noah', datetime.date(2004, 6, 18), datetime.date(2011, 11, 29), Decimal('49')),\n",
        " (7, u'Emma', datetime.date(2005, 12, 3), datetime.date(2012, 6, 25), Decimal('47')),\n",
        " (7, u'Emma', datetime.date(2005, 12, 3), datetime.date(2010, 1, 16), Decimal('42')),\n",
        " (7, u'Emma', datetime.date(2005, 12, 3), datetime.date(2009, 5, 23), Decimal('41'))]"
       ]
      }
     ],
     "prompt_number": 11
    },
    {
     "cell_type": "markdown",
     "metadata": {},
     "source": [
      "# Let's put it all together to do the analysis statement we had in SQL\n",
      "\n",
      "*Note the use of `cte` to label Common Table Expression subqueries for use in later query statements."
     ]
    },
    {
     "cell_type": "code",
     "collapsed": false,
     "input": [
      "# First create the join...\n",
      "all_visits_and_ids_join = ids.join(all_visits, ids.c.first_name == all_visits.c.first_name)\n",
      "# Then select from the join and rename things...\n",
      "all_visits_and_ids = sqla.select([ids.c.id.label(\"id\"),\n",
      "                                  ids.c.first_name.label(\"first_name\"),\n",
      "                                  ids.c.gender.label(\"gender\"),\n",
      "                                  ids.c.dob.label(\"dob\"),\n",
      "                                  all_visits.c.visit_date.label(\"visit_date\"),\n",
      "                                  all_visits.c.height.label(\"height\")\n",
      "                                 ]).select_from(all_visits_and_ids_join).apply_labels().cte(\"all_visits_and_ids\")\n",
      "# Then select from that, computing age...\n",
      "all_visits_and_ids_with_age = sqla.select([all_visits_and_ids.c.id.label(\"id\"), \n",
      "                                           all_visits_and_ids.c.first_name.label(\"first_name\"), \n",
      "                                           all_visits_and_ids.c.dob.label(\"dob\"),\n",
      "                                           all_visits_and_ids.c.visit_date.label(\"visit_date\"),\n",
      "                                           ((all_visits_and_ids.c.visit_date - all_visits_and_ids.c.dob) / 365.25).label(\"age\"),\n",
      "                                           all_visits_and_ids.c.height.label(\"height\")\n",
      "                                          ]).distinct().select_from(all_visits_and_ids.alias(\"avai\")\n",
      "                                           ).apply_labels(\n",
      "                                           ).order_by(all_visits_and_ids.c.id,\n",
      "                                                      all_visits_and_ids.c.first_name,\n",
      "                                                      all_visits_and_ids.c.visit_date\n",
      "                                           ).cte(\"all_visits_and_ids_with_age\")\n",
      "# Then order it by patient for the regression...\n",
      "results = all_visits_and_ids_with_age.select().execute()\n",
      "[row for row in results]"
     ],
     "language": "python",
     "metadata": {},
     "outputs": [
      {
       "metadata": {},
       "output_type": "pyout",
       "prompt_number": 12,
       "text": [
        "[(1, u'Jacob', datetime.date(2005, 9, 18), datetime.date(2009, 11, 22), Decimal('4.1779603011635866'), Decimal('42')),\n",
        " (1, u'Jacob', datetime.date(2005, 9, 18), datetime.date(2010, 8, 11), Decimal('4.8952772073921971'), Decimal('43')),\n",
        " (1, u'Jacob', datetime.date(2005, 9, 18), datetime.date(2012, 1, 14), Decimal('6.3216974674880219'), Decimal('46')),\n",
        " (2, u'Mason', datetime.date(2004, 2, 8), datetime.date(2010, 8, 10), Decimal('6.5023956194387406'), Decimal('48')),\n",
        " (2, u'Mason', datetime.date(2004, 2, 8), datetime.date(2011, 6, 7), Decimal('7.3264887063655031'), Decimal('49')),\n",
        " (2, u'Mason', datetime.date(2004, 2, 8), datetime.date(2012, 8, 29), Decimal('8.5557837097878166'), Decimal('52')),\n",
        " (3, u'Ethan', datetime.date(2005, 9, 27), datetime.date(2009, 10, 11), Decimal('4.0383299110198494'), Decimal('42')),\n",
        " (3, u'Ethan', datetime.date(2005, 9, 27), datetime.date(2011, 7, 11), Decimal('5.7850787132101300'), Decimal('45')),\n",
        " (3, u'Ethan', datetime.date(2005, 9, 27), datetime.date(2012, 12, 31), Decimal('7.2607802874743326'), Decimal('48')),\n",
        " (4, u'Noah', datetime.date(2004, 6, 18), datetime.date(2009, 1, 31), Decimal('4.6214921286789870'), Decimal('43')),\n",
        " (4, u'Noah', datetime.date(2004, 6, 18), datetime.date(2010, 12, 8), Decimal('6.4722792607802875'), Decimal('47')),\n",
        " (4, u'Noah', datetime.date(2004, 6, 18), datetime.date(2011, 11, 29), Decimal('7.4469541409993155'), Decimal('49')),\n",
        " (5, u'William', datetime.date(2002, 9, 16), datetime.date(2009, 11, 1), Decimal('7.1266255989048597'), Decimal('52')),\n",
        " (5, u'William', datetime.date(2002, 9, 16), datetime.date(2010, 10, 10), Decimal('8.0657084188911704'), Decimal('54')),\n",
        " (5, u'William', datetime.date(2002, 9, 16), datetime.date(2011, 5, 20), Decimal('8.6735112936344969'), Decimal('55')),\n",
        " (5, u'William', datetime.date(2002, 9, 16), datetime.date(2012, 11, 15), Decimal('10.1656399726214921'), Decimal('59')),\n",
        " (6, u'Sophia', datetime.date(2002, 1, 17), datetime.date(2009, 4, 26), Decimal('7.2717316906228611'), Decimal('48')),\n",
        " (6, u'Sophia', datetime.date(2002, 1, 17), datetime.date(2010, 12, 10), Decimal('8.8952772073921971'), Decimal('51')),\n",
        " (6, u'Sophia', datetime.date(2002, 1, 17), datetime.date(2011, 5, 29), Decimal('9.3607118412046543'), Decimal('51')),\n",
        " (6, u'Sophia', datetime.date(2002, 1, 17), datetime.date(2012, 7, 15), Decimal('10.4914442162902122'), Decimal('53')),\n",
        " (7, u'Emma', datetime.date(2005, 12, 3), datetime.date(2009, 5, 23), Decimal('3.4688569472963723'), Decimal('41')),\n",
        " (7, u'Emma', datetime.date(2005, 12, 3), datetime.date(2010, 1, 16), Decimal('4.1204654346338125'), Decimal('42')),\n",
        " (7, u'Emma', datetime.date(2005, 12, 3), datetime.date(2012, 6, 25), Decimal('6.5598904859685147'), Decimal('47')),\n",
        " (8, u'Isabella', datetime.date(2002, 5, 27), datetime.date(2009, 12, 6), Decimal('7.5290896646132786'), Decimal('48')),\n",
        " (8, u'Isabella', datetime.date(2002, 5, 27), datetime.date(2010, 3, 5), Decimal('7.7727583846680356'), Decimal('48')),\n",
        " (8, u'Isabella', datetime.date(2002, 5, 27), datetime.date(2011, 7, 10), Decimal('9.1197809719370294'), Decimal('50')),\n",
        " (8, u'Isabella', datetime.date(2002, 5, 27), datetime.date(2012, 11, 25), Decimal('10.4996577686516085'), Decimal('53')),\n",
        " (9, u'Olivia', datetime.date(2002, 2, 3), datetime.date(2009, 2, 15), Decimal('7.0335386721423682'), Decimal('48')),\n",
        " (9, u'Olivia', datetime.date(2002, 2, 3), datetime.date(2011, 9, 24), Decimal('9.6372347707049966'), Decimal('54'))]"
       ]
      }
     ],
     "prompt_number": 12
    },
    {
     "cell_type": "markdown",
     "metadata": {},
     "source": [
      "# And now for the regression and some plotting..."
     ]
    },
    {
     "cell_type": "markdown",
     "metadata": {},
     "source": [
      "## Import the relevant libraries"
     ]
    },
    {
     "cell_type": "code",
     "collapsed": false,
     "input": [
      "from pandas import DataFrame, MultiIndex\n",
      "from scipy import polyfit, stats\n",
      "from pylab import plot, title, show , legend"
     ],
     "language": "python",
     "metadata": {},
     "outputs": [],
     "prompt_number": 13
    },
    {
     "cell_type": "markdown",
     "metadata": {},
     "source": [
      "## Set variables up for computation, and set up the plot"
     ]
    },
    {
     "cell_type": "code",
     "collapsed": false,
     "input": [
      "# Set up the growth_rates result set\n",
      "growth_rates = []\n",
      "\n",
      "# Set up the plot\n",
      "title('Growth Rates of Children')\n",
      "colors = ['#000000','#0000FF','#00FF00','#FF0000','#000066','#006600','#660000','#006666','#666600']"
     ],
     "language": "python",
     "metadata": {},
     "outputs": [],
     "prompt_number": 14
    },
    {
     "cell_type": "markdown",
     "metadata": {},
     "source": [
      "## Go through each child and compute regression and plot"
     ]
    },
    {
     "cell_type": "code",
     "collapsed": false,
     "input": [
      "for child_id in [row.id for row in ids.select().execute()]:\n",
      "    # Get the first name of the child\n",
      "    first_name = list(sqla.select([ids.c.first_name]).select_from(ids).where(ids.c.id == child_id).execute())[0][0]\n",
      "\n",
      "    # Get the rows for this child from the table created above\n",
      "    d_all = all_visits_and_ids_with_age.select().where(all_visits_and_ids_with_age.c.id == child_id).alias(\"q\")\n",
      "    d_data = sqla.select([d_all.c.first_name, d_all.c.age, d_all.c.height]).select_from(d_all).execute()\n",
      "    \n",
      "    # Create DataFrame with result data\n",
      "    df = DataFrame(data = list(d_data), columns=d_data.keys())\n",
      "    \n",
      "    # Convert data types \n",
      "    df.age = df.age.astype('float64')\n",
      "    df.height = df.height.astype('float64')\n",
      "    \n",
      "    # Compute the regression (two different ways...)\n",
      "    (ar,br)=polyfit(df.age,df.height,1)\n",
      "    (a_s,b_s,r,tt,stderr)=stats.linregress(df.age,df.height)\n",
      "    \n",
      "    # Plot the data points\n",
      "    color = colors[child_id-1]\n",
      "    plot(df.age, df.height, \n",
      "         markerfacecolor=color, marker='.', color=color, linestyle='',\n",
      "         label=first_name+\" (data)\")\n",
      "    plot([min(df.age),max(df.age)],\n",
      "         [a_s * min(df.age) + b_s, a_s * max(df.age) + b_s],\n",
      "         color=color, linestyle='-', marker='',\n",
      "         label=first_name+\" (regression)\")\n",
      "    \n",
      "    # Capture the regression result with the child id and first_name\n",
      "    growth_rates.append((child_id, first_name, ar, a_s, r, stderr, b_s))\n",
      "\n",
      "legend(loc='upper left')\n",
      "show() # Show the plot!"
     ],
     "language": "python",
     "metadata": {},
     "outputs": [],
     "prompt_number": 15
    },
    {
     "cell_type": "markdown",
     "metadata": {},
     "source": [
      "## Now let's create a DataFrame with appropriate column names and take a look at the results."
     ]
    },
    {
     "cell_type": "code",
     "collapsed": false,
     "input": [
      "growth_rates = DataFrame(data=growth_rates, columns=(\"ID\", \n",
      "                                                     \"First Name\", \n",
      "                                                     \"Growth Rate (polyfit/1)\", \n",
      "                                                     \"Growth Rate (linregress)\",\n",
      "                                                     \"Confidence 'r' (linregress)\",\n",
      "                                                     \"Std Error (linregress)\",\n",
      "                                                     \"Y-Intercept (linregress)\"\n",
      "                                                    ))\n",
      "print growth_rates"
     ],
     "language": "python",
     "metadata": {},
     "outputs": [
      {
       "output_type": "stream",
       "stream": "stdout",
       "text": [
        "   ID First Name  Growth Rate (polyfit/1)  Growth Rate (linregress)  \\\n",
        "0   1      Jacob                 1.899490                  1.899490   \n",
        "1   2      Mason                 1.986285                  1.986285   \n",
        "2   3      Ethan                 1.857556                  1.857556   \n",
        "3   4       Noah                 2.128492                  2.128492   \n",
        "4   5    William                 2.299040                  2.299040   \n",
        "5   6     Sophia                 1.526909                  1.526909   \n",
        "6   7       Emma                 1.970821                  1.970821   \n",
        "7   8   Isabella                 1.706027                  1.706027   \n",
        "8   9     Olivia                 2.304416                  2.304416   \n",
        "\n",
        "   Confidence 'r' (linregress)  Std Error (linregress)  \\\n",
        "0                     0.995740                0.175883   \n",
        "1                     0.985989                0.336041   \n",
        "2                     0.998823                0.090207   \n",
        "3                     0.999916                0.027627   \n",
        "4                     0.995920                0.147301   \n",
        "5                     0.989301                0.159216   \n",
        "6                     0.998982                0.089008   \n",
        "7                     0.990146                0.170613   \n",
        "8                     1.000000                     NaN   \n",
        "\n",
        "   Y-Intercept (linregress)  \n",
        "0                 33.919160  \n",
        "1                 34.845888  \n",
        "2                 34.421718  \n",
        "3                 33.178736  \n",
        "4                 35.440061  \n",
        "5                 37.000501  \n",
        "6                 34.038145  \n",
        "7                 34.855837  \n",
        "8                 31.791798  \n"
       ]
      }
     ],
     "prompt_number": 16
    },
    {
     "cell_type": "markdown",
     "metadata": {},
     "source": [
      "# Now for some comparisons...\n",
      "\n",
      "We looked at the tables we reflected from the database... now, what about that view we created from the analysis query?"
     ]
    },
    {
     "cell_type": "code",
     "collapsed": false,
     "input": [
      "metadata.reflect(schema='dwdc', views=True)\n",
      "for t in metadata.sorted_tables:\n",
      "  print t.name"
     ],
     "language": "python",
     "metadata": {},
     "outputs": [
      {
       "output_type": "stream",
       "stream": "stdout",
       "text": [
        "ids\n",
        "analysis_results\n",
        "all_visits\n"
       ]
      }
     ],
     "prompt_number": 17
    },
    {
     "cell_type": "code",
     "collapsed": false,
     "input": [
      "analysis_results = metadata.tables['dwdc.analysis_results']\n",
      "from_sql_q = analysis_results.select()\n",
      "from_sql_d = list(from_sql_q.execute())\n",
      "\n",
      "levels = [[row[0] for row in from_sql_q.execute()], \n",
      "          [row[1] for row in from_sql_q.execute()]]\n",
      "labels = [range(len(levels[0])), range(len(levels[0]))]\n",
      "index = MultiIndex(levels=levels, labels=labels, names=[\"ID\", \"First Name\"])\n",
      "\n",
      "from_sql = DataFrame(data=from_sql_d, \n",
      "                     columns=(\"ID\", \"First Name\", \"Growth Rate (pgSQL regr_slope)\"),\n",
      "                     index=index)\n",
      "from_sql = from_sql.drop([\"ID\", \"First Name\"],axis=1)\n",
      "\n",
      "growth_rates = growth_rates.join(from_sql, on=[\"ID\", \"First Name\"], how=\"outer\")\n",
      "print growth_rates\n"
     ],
     "language": "python",
     "metadata": {},
     "outputs": [
      {
       "output_type": "stream",
       "stream": "stdout",
       "text": [
        "   ID First Name  Growth Rate (polyfit/1)  Growth Rate (linregress)  \\\n",
        "0   1      Jacob                 1.899490                  1.899490   \n",
        "1   2      Mason                 1.986285                  1.986285   \n",
        "2   3      Ethan                 1.857556                  1.857556   \n",
        "3   4       Noah                 2.128492                  2.128492   \n",
        "4   5    William                 2.299040                  2.299040   \n",
        "5   6     Sophia                 1.526909                  1.526909   \n",
        "6   7       Emma                 1.970821                  1.970821   \n",
        "7   8   Isabella                 1.706027                  1.706027   \n",
        "8   9     Olivia                 2.304416                  2.304416   \n",
        "\n",
        "   Confidence 'r' (linregress)  Std Error (linregress)  \\\n",
        "0                     0.995740                0.175883   \n",
        "1                     0.985989                0.336041   \n",
        "2                     0.998823                0.090207   \n",
        "3                     0.999916                0.027627   \n",
        "4                     0.995920                0.147301   \n",
        "5                     0.989301                0.159216   \n",
        "6                     0.998982                0.089008   \n",
        "7                     0.990146                0.170613   \n",
        "8                     1.000000                     NaN   \n",
        "\n",
        "   Y-Intercept (linregress) Growth Rate (pgSQL regr_slope)  \n",
        "0                 33.919160                   1.8999185318  \n",
        "1                 34.845888                  1.98753412517  \n",
        "2                 34.421718                  1.85989045609  \n",
        "3                 33.178736                  2.12475375808  \n",
        "4                 35.440061                  2.30058793787  \n",
        "5                 37.000501                  1.52615253941  \n",
        "6                 34.038145                  1.97327454734  \n",
        "7                 34.855837                  1.70451209508  \n",
        "8                 31.791798                  2.30805687204  \n"
       ]
      }
     ],
     "prompt_number": 18
    },
    {
     "cell_type": "markdown",
     "metadata": {},
     "source": [
      "# Installing PsycoPg2 on Mac OS X Mavericks\n",
      "\n",
      "For this installation, I assume you're using the following:\n",
      "\n",
      "* Mac OS X Mavericks (10.9) \n",
      "* Postgres.app (http://postgresapp.com/), I have version 9.3.3\n",
      "* Anaconda Python distribution from Continuum Analytics (http://continuum.io/downloads)\n",
      "* PsycoPg2 version 2.5.x, I have version 2.5.2\n",
      "\n",
      "## A. Download and install Postgres.app and Anaconda Python\n",
      "\n",
      "## B. To install PsycoPg2, open Terminal and do the following:\n",
      "\n",
      "1. Since Apple changed the way their compiler handles unused command-line arguments for `clang`, install the `psycopg2` package via Anaconda's pip installer with the `ARCHFLAGS` option set as follows:\n",
      "```\n",
      "  sudo ARCHFLAGS=-Wno-error=unused-command-line-argument-hard-error-in-future pip install psycopg2\n",
      "```\n",
      "\n",
      "2. There are two later-version libs needed in /usr/lib, libssl and libcrypto. You can find the needed versions of these libs in the Postgres lib directory at `/Applications/Postgres93.app/Contents/MacOS/lib`.  First copy the latest of these two libs from the Postgres lib directory to /usr/lib:\n",
      "```\n",
      "  sudo cp /Applications/Postgres93.app/Contents/MacOS/lib/libssl.1.0.0.dylib /usr/lib\n",
      "  sudo cp /Applications/Postgres93.app/Contents/MacOS/lib/libcrypto.1.0.0.dylib /usr/lib\n",
      "```\n",
      "\n",
      "3. Then update (or create) the /usr/lib symlinks for this libs. Either way the command is ln -fs:\n",
      "```\n",
      "  sudo ln -fs /usr/lib/libssl.1.0.0.dylib /usr/lib/libssl.dylib\n",
      "  sudo ln -fs /usr/lib/libcrypto.1.0.0.dylib /usr/lib/libcrypto.dylib\n",
      "```"
     ]
    }
   ],
   "metadata": {}
  }
 ]
}